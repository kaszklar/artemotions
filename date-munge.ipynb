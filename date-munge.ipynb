{
 "cells": [
  {
   "cell_type": "code",
   "execution_count": 3,
   "metadata": {},
   "outputs": [],
   "source": [
    "import pandas as pd\n",
    "import numpy as np\n",
    "from datetime import datetime\n",
    "import pickle"
   ]
  },
  {
   "cell_type": "markdown",
   "metadata": {},
   "source": [
    "read from pickle & start at cell **\"Starting to work with years\"** OR import csv"
   ]
  },
  {
   "cell_type": "code",
   "execution_count": 4,
   "metadata": {},
   "outputs": [],
   "source": [
    "# # # READ OBJECT FROM PICKLE  \n",
    "# with open(\"emotions.pkl\", 'rb') as picklefile: \n",
    "#     emotions = pickle.load(picklefile)"
   ]
  },
  {
   "cell_type": "code",
   "execution_count": 5,
   "metadata": {
    "colab": {},
    "colab_type": "code",
    "id": "hLOiSUhpkQMd"
   },
   "outputs": [
    {
     "data": {
      "text/html": [
       "<div>\n",
       "<style scoped>\n",
       "    .dataframe tbody tr th:only-of-type {\n",
       "        vertical-align: middle;\n",
       "    }\n",
       "\n",
       "    .dataframe tbody tr th {\n",
       "        vertical-align: top;\n",
       "    }\n",
       "\n",
       "    .dataframe thead th {\n",
       "        text-align: right;\n",
       "    }\n",
       "</style>\n",
       "<table border=\"1\" class=\"dataframe\">\n",
       "  <thead>\n",
       "    <tr style=\"text-align: right;\">\n",
       "      <th></th>\n",
       "      <th>Title</th>\n",
       "      <th>Artist Display Name</th>\n",
       "      <th>Object Date</th>\n",
       "      <th>Classification</th>\n",
       "      <th>Link Resource</th>\n",
       "      <th>Avg. Anger</th>\n",
       "      <th>Avg. Contempt</th>\n",
       "      <th>Avg. Disgust</th>\n",
       "      <th>Avg. Fear</th>\n",
       "      <th>Avg. Happiness</th>\n",
       "      <th>Avg. Neutral</th>\n",
       "      <th>Avg. Sadness</th>\n",
       "      <th>Avg. Surprise</th>\n",
       "    </tr>\n",
       "    <tr>\n",
       "      <th>Object ID</th>\n",
       "      <th></th>\n",
       "      <th></th>\n",
       "      <th></th>\n",
       "      <th></th>\n",
       "      <th></th>\n",
       "      <th></th>\n",
       "      <th></th>\n",
       "      <th></th>\n",
       "      <th></th>\n",
       "      <th></th>\n",
       "      <th></th>\n",
       "      <th></th>\n",
       "      <th></th>\n",
       "    </tr>\n",
       "  </thead>\n",
       "  <tbody>\n",
       "    <tr>\n",
       "      <th>10056</th>\n",
       "      <td>Hunter (from McGuire Scrapbook)</td>\n",
       "      <td>William Apthorp Adams</td>\n",
       "      <td>1797–1878</td>\n",
       "      <td>Drawings</td>\n",
       "      <td>http://www.metmuseum.org/art/collection/search...</td>\n",
       "      <td>0.000</td>\n",
       "      <td>0.001</td>\n",
       "      <td>0.000</td>\n",
       "      <td>0.000</td>\n",
       "      <td>0.206</td>\n",
       "      <td>0.792</td>\n",
       "      <td>0.001</td>\n",
       "      <td>0.000</td>\n",
       "    </tr>\n",
       "    <tr>\n",
       "      <th>10057</th>\n",
       "      <td>The Tahitian Chief Otore (from McGuire Scrapbook)</td>\n",
       "      <td>Alfred Thomas Agate</td>\n",
       "      <td>ca. 1839</td>\n",
       "      <td>Drawings</td>\n",
       "      <td>http://www.metmuseum.org/art/collection/search...</td>\n",
       "      <td>0.001</td>\n",
       "      <td>0.001</td>\n",
       "      <td>0.000</td>\n",
       "      <td>0.000</td>\n",
       "      <td>0.000</td>\n",
       "      <td>0.987</td>\n",
       "      <td>0.011</td>\n",
       "      <td>0.000</td>\n",
       "    </tr>\n",
       "    <tr>\n",
       "      <th>10064</th>\n",
       "      <td>James McNeill Whistler</td>\n",
       "      <td>John White Alexander</td>\n",
       "      <td>NaN</td>\n",
       "      <td>Drawings</td>\n",
       "      <td>http://www.metmuseum.org/art/collection/search...</td>\n",
       "      <td>0.002</td>\n",
       "      <td>0.001</td>\n",
       "      <td>0.001</td>\n",
       "      <td>0.000</td>\n",
       "      <td>0.001</td>\n",
       "      <td>0.836</td>\n",
       "      <td>0.159</td>\n",
       "      <td>0.000</td>\n",
       "    </tr>\n",
       "    <tr>\n",
       "      <th>10070</th>\n",
       "      <td>The Spanish Girl in Reverie</td>\n",
       "      <td>Washington Allston</td>\n",
       "      <td>1831</td>\n",
       "      <td>Paintings</td>\n",
       "      <td>http://www.metmuseum.org/art/collection/search...</td>\n",
       "      <td>0.000</td>\n",
       "      <td>0.000</td>\n",
       "      <td>0.000</td>\n",
       "      <td>0.000</td>\n",
       "      <td>0.001</td>\n",
       "      <td>0.998</td>\n",
       "      <td>0.000</td>\n",
       "      <td>0.000</td>\n",
       "    </tr>\n",
       "    <tr>\n",
       "      <th>10071</th>\n",
       "      <td>The Stoning of Saint Stephen</td>\n",
       "      <td>Washington Allston</td>\n",
       "      <td>NaN</td>\n",
       "      <td>Drawings</td>\n",
       "      <td>http://www.metmuseum.org/art/collection/search...</td>\n",
       "      <td>0.000</td>\n",
       "      <td>0.003</td>\n",
       "      <td>0.000</td>\n",
       "      <td>0.002</td>\n",
       "      <td>0.004</td>\n",
       "      <td>0.978</td>\n",
       "      <td>0.004</td>\n",
       "      <td>0.009</td>\n",
       "    </tr>\n",
       "  </tbody>\n",
       "</table>\n",
       "</div>"
      ],
      "text/plain": [
       "                                                       Title  \\\n",
       "Object ID                                                      \n",
       "10056                        Hunter (from McGuire Scrapbook)   \n",
       "10057      The Tahitian Chief Otore (from McGuire Scrapbook)   \n",
       "10064                                 James McNeill Whistler   \n",
       "10070                            The Spanish Girl in Reverie   \n",
       "10071                           The Stoning of Saint Stephen   \n",
       "\n",
       "             Artist Display Name Object Date Classification  \\\n",
       "Object ID                                                     \n",
       "10056      William Apthorp Adams   1797–1878       Drawings   \n",
       "10057        Alfred Thomas Agate    ca. 1839       Drawings   \n",
       "10064       John White Alexander         NaN       Drawings   \n",
       "10070         Washington Allston        1831      Paintings   \n",
       "10071         Washington Allston         NaN       Drawings   \n",
       "\n",
       "                                               Link Resource  Avg. Anger  \\\n",
       "Object ID                                                                  \n",
       "10056      http://www.metmuseum.org/art/collection/search...       0.000   \n",
       "10057      http://www.metmuseum.org/art/collection/search...       0.001   \n",
       "10064      http://www.metmuseum.org/art/collection/search...       0.002   \n",
       "10070      http://www.metmuseum.org/art/collection/search...       0.000   \n",
       "10071      http://www.metmuseum.org/art/collection/search...       0.000   \n",
       "\n",
       "           Avg. Contempt  Avg. Disgust  Avg. Fear  Avg. Happiness  \\\n",
       "Object ID                                                           \n",
       "10056              0.001         0.000      0.000           0.206   \n",
       "10057              0.001         0.000      0.000           0.000   \n",
       "10064              0.001         0.001      0.000           0.001   \n",
       "10070              0.000         0.000      0.000           0.001   \n",
       "10071              0.003         0.000      0.002           0.004   \n",
       "\n",
       "           Avg. Neutral  Avg. Sadness  Avg. Surprise  \n",
       "Object ID                                             \n",
       "10056             0.792         0.001          0.000  \n",
       "10057             0.987         0.011          0.000  \n",
       "10064             0.836         0.159          0.000  \n",
       "10070             0.998         0.000          0.000  \n",
       "10071             0.978         0.004          0.009  "
      ]
     },
     "execution_count": 5,
     "metadata": {},
     "output_type": "execute_result"
    }
   ],
   "source": [
    "import pandas as pd\n",
    "emotions = pd.read_csv('average_emotions.csv', index_col='Object ID')\n",
    "emotions.head()"
   ]
  },
  {
   "cell_type": "code",
   "execution_count": 6,
   "metadata": {},
   "outputs": [
    {
     "name": "stdout",
     "output_type": "stream",
     "text": [
      "<class 'pandas.core.frame.DataFrame'>\n",
      "Int64Index: 29462 entries, 10056 to 298968\n",
      "Data columns (total 13 columns):\n",
      "Title                  29175 non-null object\n",
      "Artist Display Name    27722 non-null object\n",
      "Object Date            28802 non-null object\n",
      "Classification         29462 non-null object\n",
      "Link Resource          29462 non-null object\n",
      "Avg. Anger             29462 non-null float64\n",
      "Avg. Contempt          29462 non-null float64\n",
      "Avg. Disgust           29462 non-null float64\n",
      "Avg. Fear              29462 non-null float64\n",
      "Avg. Happiness         29462 non-null float64\n",
      "Avg. Neutral           29462 non-null float64\n",
      "Avg. Sadness           29462 non-null float64\n",
      "Avg. Surprise          29462 non-null float64\n",
      "dtypes: float64(8), object(5)\n",
      "memory usage: 3.1+ MB\n"
     ]
    }
   ],
   "source": [
    "emotions.info()"
   ]
  },
  {
   "cell_type": "code",
   "execution_count": 7,
   "metadata": {},
   "outputs": [],
   "source": [
    "emotions['Object Date']=emotions['Object Date'].astype(str)\n",
    "emotions=emotions[emotions['Object Date']!='nan']"
   ]
  },
  {
   "cell_type": "code",
   "execution_count": 8,
   "metadata": {},
   "outputs": [
    {
     "name": "stdout",
     "output_type": "stream",
     "text": [
      "<class 'pandas.core.frame.DataFrame'>\n",
      "Int64Index: 28802 entries, 10056 to 298968\n",
      "Data columns (total 13 columns):\n",
      "Title                  28536 non-null object\n",
      "Artist Display Name    27073 non-null object\n",
      "Object Date            28802 non-null object\n",
      "Classification         28802 non-null object\n",
      "Link Resource          28802 non-null object\n",
      "Avg. Anger             28802 non-null float64\n",
      "Avg. Contempt          28802 non-null float64\n",
      "Avg. Disgust           28802 non-null float64\n",
      "Avg. Fear              28802 non-null float64\n",
      "Avg. Happiness         28802 non-null float64\n",
      "Avg. Neutral           28802 non-null float64\n",
      "Avg. Sadness           28802 non-null float64\n",
      "Avg. Surprise          28802 non-null float64\n",
      "dtypes: float64(8), object(5)\n",
      "memory usage: 3.1+ MB\n"
     ]
    }
   ],
   "source": [
    "emotions.info()"
   ]
  },
  {
   "cell_type": "code",
   "execution_count": 9,
   "metadata": {},
   "outputs": [
    {
     "data": {
      "text/plain": [
       "14764"
      ]
     },
     "execution_count": 9,
     "metadata": {},
     "output_type": "execute_result"
    }
   ],
   "source": [
    "len(emotions[emotions['Object Date'].str.len()==4])"
   ]
  },
  {
   "cell_type": "code",
   "execution_count": 10,
   "metadata": {},
   "outputs": [
    {
     "data": {
      "text/plain": [
       "Title                  Johnny Sain, part of the 1949 Bowman Baseball ...\n",
       "Artist Display Name                                   Bowman Gum Company\n",
       "Object Date                                                         1949\n",
       "Classification                                           Prints|Ephemera\n",
       "Link Resource          http://www.metmuseum.org/art/collection/search...\n",
       "Avg. Anger                                                         0.554\n",
       "Avg. Contempt                                                      0.001\n",
       "Avg. Disgust                                                       0.041\n",
       "Avg. Fear                                                              0\n",
       "Avg. Happiness                                                     0.003\n",
       "Avg. Neutral                                                       0.133\n",
       "Avg. Sadness                                                           0\n",
       "Avg. Surprise                                                      0.267\n",
       "Name: 417013, dtype: object"
      ]
     },
     "execution_count": 10,
     "metadata": {},
     "output_type": "execute_result"
    }
   ],
   "source": [
    "emotions.iloc[10071,:]"
   ]
  },
  {
   "cell_type": "markdown",
   "metadata": {},
   "source": [
    "### Number of artworks"
   ]
  },
  {
   "cell_type": "code",
   "execution_count": 11,
   "metadata": {
    "scrolled": true
   },
   "outputs": [
    {
     "data": {
      "text/plain": [
       "28802"
      ]
     },
     "execution_count": 11,
     "metadata": {},
     "output_type": "execute_result"
    }
   ],
   "source": [
    "len(emotions)"
   ]
  },
  {
   "cell_type": "markdown",
   "metadata": {},
   "source": [
    "### Number of unique values in the date col; oh boy"
   ]
  },
  {
   "cell_type": "code",
   "execution_count": 12,
   "metadata": {},
   "outputs": [
    {
     "data": {
      "text/plain": [
       "array(['1797–1878', 'ca. 1839', '1831', ...,\n",
       "       'Second half of the 18th century (segunda mitad del siglo XVIII)',\n",
       "       '2008', '1854–57'], dtype=object)"
      ]
     },
     "execution_count": 12,
     "metadata": {},
     "output_type": "execute_result"
    }
   ],
   "source": [
    "emotions['Object Date'].unique()"
   ]
  },
  {
   "cell_type": "code",
   "execution_count": 13,
   "metadata": {},
   "outputs": [
    {
     "data": {
      "text/plain": [
       "3589"
      ]
     },
     "execution_count": 13,
     "metadata": {},
     "output_type": "execute_result"
    }
   ],
   "source": [
    "emotions['Object Date'].nunique()"
   ]
  },
  {
   "cell_type": "markdown",
   "metadata": {},
   "source": [
    "### Number of works with no date information"
   ]
  },
  {
   "cell_type": "code",
   "execution_count": 14,
   "metadata": {
    "scrolled": true
   },
   "outputs": [
    {
     "data": {
      "text/plain": [
       "0"
      ]
     },
     "execution_count": 14,
     "metadata": {},
     "output_type": "execute_result"
    }
   ],
   "source": [
    "len(emotions[emotions['Object Date']=='nan'])"
   ]
  },
  {
   "cell_type": "markdown",
   "metadata": {},
   "source": [
    "### Number of items with exactly 4 digit year as the date:"
   ]
  },
  {
   "cell_type": "code",
   "execution_count": 15,
   "metadata": {},
   "outputs": [
    {
     "data": {
      "text/plain": [
       "14764"
      ]
     },
     "execution_count": 15,
     "metadata": {},
     "output_type": "execute_result"
    }
   ],
   "source": [
    "len(emotions[emotions['Object Date'].str.len()==4])"
   ]
  },
  {
   "cell_type": "markdown",
   "metadata": {},
   "source": [
    "### Number of items that exact match \"ca. XXXX\" pattern"
   ]
  },
  {
   "cell_type": "code",
   "execution_count": 16,
   "metadata": {},
   "outputs": [],
   "source": [
    "#for omg in emotions['Object Date'].unique():\n",
    "#    print(omg)"
   ]
  },
  {
   "cell_type": "code",
   "execution_count": 17,
   "metadata": {},
   "outputs": [],
   "source": [
    "import re\n",
    "strict_circa_year = re.compile('^ca. \\d{4}$')"
   ]
  },
  {
   "cell_type": "code",
   "execution_count": 18,
   "metadata": {},
   "outputs": [
    {
     "data": {
      "text/plain": [
       "3860"
      ]
     },
     "execution_count": 18,
     "metadata": {},
     "output_type": "execute_result"
    }
   ],
   "source": [
    "emotions['Object Date'].str.match(strict_circa_year).sum()"
   ]
  },
  {
   "cell_type": "code",
   "execution_count": 19,
   "metadata": {},
   "outputs": [
    {
     "data": {
      "text/html": [
       "<div>\n",
       "<style scoped>\n",
       "    .dataframe tbody tr th:only-of-type {\n",
       "        vertical-align: middle;\n",
       "    }\n",
       "\n",
       "    .dataframe tbody tr th {\n",
       "        vertical-align: top;\n",
       "    }\n",
       "\n",
       "    .dataframe thead th {\n",
       "        text-align: right;\n",
       "    }\n",
       "</style>\n",
       "<table border=\"1\" class=\"dataframe\">\n",
       "  <thead>\n",
       "    <tr style=\"text-align: right;\">\n",
       "      <th></th>\n",
       "      <th>Title</th>\n",
       "      <th>Artist Display Name</th>\n",
       "      <th>Object Date</th>\n",
       "      <th>Classification</th>\n",
       "      <th>Link Resource</th>\n",
       "      <th>Avg. Anger</th>\n",
       "      <th>Avg. Contempt</th>\n",
       "      <th>Avg. Disgust</th>\n",
       "      <th>Avg. Fear</th>\n",
       "      <th>Avg. Happiness</th>\n",
       "      <th>Avg. Neutral</th>\n",
       "      <th>Avg. Sadness</th>\n",
       "      <th>Avg. Surprise</th>\n",
       "    </tr>\n",
       "    <tr>\n",
       "      <th>Object ID</th>\n",
       "      <th></th>\n",
       "      <th></th>\n",
       "      <th></th>\n",
       "      <th></th>\n",
       "      <th></th>\n",
       "      <th></th>\n",
       "      <th></th>\n",
       "      <th></th>\n",
       "      <th></th>\n",
       "      <th></th>\n",
       "      <th></th>\n",
       "      <th></th>\n",
       "      <th></th>\n",
       "    </tr>\n",
       "  </thead>\n",
       "  <tbody>\n",
       "    <tr>\n",
       "      <th>10057</th>\n",
       "      <td>The Tahitian Chief Otore (from McGuire Scrapbook)</td>\n",
       "      <td>Alfred Thomas Agate</td>\n",
       "      <td>ca. 1839</td>\n",
       "      <td>Drawings</td>\n",
       "      <td>http://www.metmuseum.org/art/collection/search...</td>\n",
       "      <td>0.001</td>\n",
       "      <td>0.001</td>\n",
       "      <td>0.0</td>\n",
       "      <td>0.0</td>\n",
       "      <td>0.000</td>\n",
       "      <td>0.987</td>\n",
       "      <td>0.011</td>\n",
       "      <td>0.000</td>\n",
       "    </tr>\n",
       "    <tr>\n",
       "      <th>10074</th>\n",
       "      <td>Maurice Levy</td>\n",
       "      <td>Ezra Ames</td>\n",
       "      <td>ca. 1820</td>\n",
       "      <td>Paintings</td>\n",
       "      <td>http://www.metmuseum.org/art/collection/search...</td>\n",
       "      <td>0.000</td>\n",
       "      <td>0.001</td>\n",
       "      <td>0.0</td>\n",
       "      <td>0.0</td>\n",
       "      <td>0.001</td>\n",
       "      <td>0.995</td>\n",
       "      <td>0.003</td>\n",
       "      <td>0.000</td>\n",
       "    </tr>\n",
       "    <tr>\n",
       "      <th>10075</th>\n",
       "      <td>Philip Van Cortlandt</td>\n",
       "      <td>Ezra Ames</td>\n",
       "      <td>ca. 1810</td>\n",
       "      <td>Paintings</td>\n",
       "      <td>http://www.metmuseum.org/art/collection/search...</td>\n",
       "      <td>0.000</td>\n",
       "      <td>0.001</td>\n",
       "      <td>0.0</td>\n",
       "      <td>0.0</td>\n",
       "      <td>0.012</td>\n",
       "      <td>0.987</td>\n",
       "      <td>0.000</td>\n",
       "      <td>0.000</td>\n",
       "    </tr>\n",
       "    <tr>\n",
       "      <th>10132</th>\n",
       "      <td>The Veronese Print</td>\n",
       "      <td>J. Carroll Beckwith</td>\n",
       "      <td>ca. 1890</td>\n",
       "      <td>Drawings</td>\n",
       "      <td>http://www.metmuseum.org/art/collection/search...</td>\n",
       "      <td>0.000</td>\n",
       "      <td>0.000</td>\n",
       "      <td>0.0</td>\n",
       "      <td>0.0</td>\n",
       "      <td>0.119</td>\n",
       "      <td>0.876</td>\n",
       "      <td>0.001</td>\n",
       "      <td>0.005</td>\n",
       "    </tr>\n",
       "    <tr>\n",
       "      <th>10139</th>\n",
       "      <td>Portrait of a Gentleman</td>\n",
       "      <td>Henry Benbridge</td>\n",
       "      <td>ca. 1780</td>\n",
       "      <td>Paintings</td>\n",
       "      <td>http://www.metmuseum.org/art/collection/search...</td>\n",
       "      <td>0.000</td>\n",
       "      <td>0.000</td>\n",
       "      <td>0.0</td>\n",
       "      <td>0.0</td>\n",
       "      <td>0.003</td>\n",
       "      <td>0.996</td>\n",
       "      <td>0.001</td>\n",
       "      <td>0.000</td>\n",
       "    </tr>\n",
       "  </tbody>\n",
       "</table>\n",
       "</div>"
      ],
      "text/plain": [
       "                                                       Title  \\\n",
       "Object ID                                                      \n",
       "10057      The Tahitian Chief Otore (from McGuire Scrapbook)   \n",
       "10074                                           Maurice Levy   \n",
       "10075                                   Philip Van Cortlandt   \n",
       "10132                                     The Veronese Print   \n",
       "10139                                Portrait of a Gentleman   \n",
       "\n",
       "           Artist Display Name Object Date Classification  \\\n",
       "Object ID                                                   \n",
       "10057      Alfred Thomas Agate    ca. 1839       Drawings   \n",
       "10074                Ezra Ames    ca. 1820      Paintings   \n",
       "10075                Ezra Ames    ca. 1810      Paintings   \n",
       "10132      J. Carroll Beckwith    ca. 1890       Drawings   \n",
       "10139          Henry Benbridge    ca. 1780      Paintings   \n",
       "\n",
       "                                               Link Resource  Avg. Anger  \\\n",
       "Object ID                                                                  \n",
       "10057      http://www.metmuseum.org/art/collection/search...       0.001   \n",
       "10074      http://www.metmuseum.org/art/collection/search...       0.000   \n",
       "10075      http://www.metmuseum.org/art/collection/search...       0.000   \n",
       "10132      http://www.metmuseum.org/art/collection/search...       0.000   \n",
       "10139      http://www.metmuseum.org/art/collection/search...       0.000   \n",
       "\n",
       "           Avg. Contempt  Avg. Disgust  Avg. Fear  Avg. Happiness  \\\n",
       "Object ID                                                           \n",
       "10057              0.001           0.0        0.0           0.000   \n",
       "10074              0.001           0.0        0.0           0.001   \n",
       "10075              0.001           0.0        0.0           0.012   \n",
       "10132              0.000           0.0        0.0           0.119   \n",
       "10139              0.000           0.0        0.0           0.003   \n",
       "\n",
       "           Avg. Neutral  Avg. Sadness  Avg. Surprise  \n",
       "Object ID                                             \n",
       "10057             0.987         0.011          0.000  \n",
       "10074             0.995         0.003          0.000  \n",
       "10075             0.987         0.000          0.000  \n",
       "10132             0.876         0.001          0.005  \n",
       "10139             0.996         0.001          0.000  "
      ]
     },
     "execution_count": 19,
     "metadata": {},
     "output_type": "execute_result"
    }
   ],
   "source": [
    "emotions[emotions['Object Date'].str.match(strict_circa_year)].head()"
   ]
  },
  {
   "cell_type": "markdown",
   "metadata": {},
   "source": [
    "### exact maches: XXXXs"
   ]
  },
  {
   "cell_type": "code",
   "execution_count": 20,
   "metadata": {},
   "outputs": [
    {
     "data": {
      "text/plain": [
       "1413"
      ]
     },
     "execution_count": 20,
     "metadata": {},
     "output_type": "execute_result"
    }
   ],
   "source": [
    "decade_given=re.compile('^\\d{4}s$')\n",
    "#emotions[emotions['Object Date'].str.match(decade_given)]\n",
    "len(emotions[emotions['Object Date'].str.match(decade_given)])"
   ]
  },
  {
   "cell_type": "markdown",
   "metadata": {},
   "source": [
    "### XXXXs-XXs ... and XXXXs-XXXXs"
   ]
  },
  {
   "cell_type": "code",
   "execution_count": 21,
   "metadata": {},
   "outputs": [
    {
     "data": {
      "text/html": [
       "<div>\n",
       "<style scoped>\n",
       "    .dataframe tbody tr th:only-of-type {\n",
       "        vertical-align: middle;\n",
       "    }\n",
       "\n",
       "    .dataframe tbody tr th {\n",
       "        vertical-align: top;\n",
       "    }\n",
       "\n",
       "    .dataframe thead th {\n",
       "        text-align: right;\n",
       "    }\n",
       "</style>\n",
       "<table border=\"1\" class=\"dataframe\">\n",
       "  <thead>\n",
       "    <tr style=\"text-align: right;\">\n",
       "      <th></th>\n",
       "      <th>Title</th>\n",
       "      <th>Artist Display Name</th>\n",
       "      <th>Object Date</th>\n",
       "      <th>Classification</th>\n",
       "      <th>Link Resource</th>\n",
       "      <th>Avg. Anger</th>\n",
       "      <th>Avg. Contempt</th>\n",
       "      <th>Avg. Disgust</th>\n",
       "      <th>Avg. Fear</th>\n",
       "      <th>Avg. Happiness</th>\n",
       "      <th>Avg. Neutral</th>\n",
       "      <th>Avg. Sadness</th>\n",
       "      <th>Avg. Surprise</th>\n",
       "    </tr>\n",
       "    <tr>\n",
       "      <th>Object ID</th>\n",
       "      <th></th>\n",
       "      <th></th>\n",
       "      <th></th>\n",
       "      <th></th>\n",
       "      <th></th>\n",
       "      <th></th>\n",
       "      <th></th>\n",
       "      <th></th>\n",
       "      <th></th>\n",
       "      <th></th>\n",
       "      <th></th>\n",
       "      <th></th>\n",
       "      <th></th>\n",
       "    </tr>\n",
       "  </thead>\n",
       "  <tbody>\n",
       "    <tr>\n",
       "      <th>12109</th>\n",
       "      <td>Hercules Brabazon Brabazon</td>\n",
       "      <td>John Singer Sargent</td>\n",
       "      <td>1890s</td>\n",
       "      <td>Drawings</td>\n",
       "      <td>http://www.metmuseum.org/art/collection/search...</td>\n",
       "      <td>0.007</td>\n",
       "      <td>0.000</td>\n",
       "      <td>0.0</td>\n",
       "      <td>0.0</td>\n",
       "      <td>0.002</td>\n",
       "      <td>0.987</td>\n",
       "      <td>0.002</td>\n",
       "      <td>0.001</td>\n",
       "    </tr>\n",
       "    <tr>\n",
       "      <th>16166</th>\n",
       "      <td>Carey Ambler</td>\n",
       "      <td>Virginia Hendrickson Irvin</td>\n",
       "      <td>1950s</td>\n",
       "      <td>Paintings</td>\n",
       "      <td>http://www.metmuseum.org/art/collection/search...</td>\n",
       "      <td>0.000</td>\n",
       "      <td>0.000</td>\n",
       "      <td>0.0</td>\n",
       "      <td>0.0</td>\n",
       "      <td>1.000</td>\n",
       "      <td>0.000</td>\n",
       "      <td>0.000</td>\n",
       "      <td>0.000</td>\n",
       "    </tr>\n",
       "    <tr>\n",
       "      <th>19376</th>\n",
       "      <td>Portrait of a Boy</td>\n",
       "      <td>NaN</td>\n",
       "      <td>1840s</td>\n",
       "      <td>Paintings</td>\n",
       "      <td>http://www.metmuseum.org/art/collection/search...</td>\n",
       "      <td>0.000</td>\n",
       "      <td>0.000</td>\n",
       "      <td>0.0</td>\n",
       "      <td>0.0</td>\n",
       "      <td>0.210</td>\n",
       "      <td>0.790</td>\n",
       "      <td>0.000</td>\n",
       "      <td>0.000</td>\n",
       "    </tr>\n",
       "    <tr>\n",
       "      <th>259699</th>\n",
       "      <td>Alexander Jensen Low</td>\n",
       "      <td>George Platt Lynes</td>\n",
       "      <td>1930s–40s</td>\n",
       "      <td>Photographs</td>\n",
       "      <td>http://www.metmuseum.org/art/collection/search...</td>\n",
       "      <td>0.001</td>\n",
       "      <td>0.003</td>\n",
       "      <td>0.0</td>\n",
       "      <td>0.0</td>\n",
       "      <td>0.004</td>\n",
       "      <td>0.992</td>\n",
       "      <td>0.000</td>\n",
       "      <td>0.000</td>\n",
       "    </tr>\n",
       "    <tr>\n",
       "      <th>259701</th>\n",
       "      <td>Jared French</td>\n",
       "      <td>George Platt Lynes</td>\n",
       "      <td>1930s–40s</td>\n",
       "      <td>Photographs</td>\n",
       "      <td>http://www.metmuseum.org/art/collection/search...</td>\n",
       "      <td>0.005</td>\n",
       "      <td>0.001</td>\n",
       "      <td>0.0</td>\n",
       "      <td>0.0</td>\n",
       "      <td>0.000</td>\n",
       "      <td>0.993</td>\n",
       "      <td>0.000</td>\n",
       "      <td>0.001</td>\n",
       "    </tr>\n",
       "  </tbody>\n",
       "</table>\n",
       "</div>"
      ],
      "text/plain": [
       "                                Title         Artist Display Name Object Date  \\\n",
       "Object ID                                                                       \n",
       "12109      Hercules Brabazon Brabazon         John Singer Sargent       1890s   \n",
       "16166                    Carey Ambler  Virginia Hendrickson Irvin       1950s   \n",
       "19376               Portrait of a Boy                         NaN       1840s   \n",
       "259699           Alexander Jensen Low          George Platt Lynes   1930s–40s   \n",
       "259701                   Jared French          George Platt Lynes   1930s–40s   \n",
       "\n",
       "          Classification                                      Link Resource  \\\n",
       "Object ID                                                                     \n",
       "12109           Drawings  http://www.metmuseum.org/art/collection/search...   \n",
       "16166          Paintings  http://www.metmuseum.org/art/collection/search...   \n",
       "19376          Paintings  http://www.metmuseum.org/art/collection/search...   \n",
       "259699       Photographs  http://www.metmuseum.org/art/collection/search...   \n",
       "259701       Photographs  http://www.metmuseum.org/art/collection/search...   \n",
       "\n",
       "           Avg. Anger  Avg. Contempt  Avg. Disgust  Avg. Fear  Avg. Happiness  \\\n",
       "Object ID                                                                       \n",
       "12109           0.007          0.000           0.0        0.0           0.002   \n",
       "16166           0.000          0.000           0.0        0.0           1.000   \n",
       "19376           0.000          0.000           0.0        0.0           0.210   \n",
       "259699          0.001          0.003           0.0        0.0           0.004   \n",
       "259701          0.005          0.001           0.0        0.0           0.000   \n",
       "\n",
       "           Avg. Neutral  Avg. Sadness  Avg. Surprise  \n",
       "Object ID                                             \n",
       "12109             0.987         0.002          0.001  \n",
       "16166             0.000         0.000          0.000  \n",
       "19376             0.790         0.000          0.000  \n",
       "259699            0.992         0.000          0.000  \n",
       "259701            0.993         0.000          0.001  "
      ]
     },
     "execution_count": 21,
     "metadata": {},
     "output_type": "execute_result"
    }
   ],
   "source": [
    "range_decades=re.compile('^\\d{4}s')\n",
    "emotions[emotions['Object Date'].str.match(range_decades)].head()\n",
    "#len(emotions[emotions['Object Date'].str.match(range_decades)])"
   ]
  },
  {
   "cell_type": "code",
   "execution_count": null,
   "metadata": {},
   "outputs": [],
   "source": []
  },
  {
   "cell_type": "code",
   "execution_count": null,
   "metadata": {},
   "outputs": [],
   "source": []
  },
  {
   "cell_type": "code",
   "execution_count": null,
   "metadata": {},
   "outputs": [],
   "source": []
  },
  {
   "cell_type": "code",
   "execution_count": null,
   "metadata": {},
   "outputs": [],
   "source": []
  },
  {
   "cell_type": "code",
   "execution_count": null,
   "metadata": {},
   "outputs": [],
   "source": []
  },
  {
   "cell_type": "markdown",
   "metadata": {},
   "source": [
    "# Starting to work with years  \n",
    "quick and dirty assignment of year"
   ]
  },
  {
   "cell_type": "code",
   "execution_count": 22,
   "metadata": {},
   "outputs": [
    {
     "data": {
      "text/html": [
       "<div>\n",
       "<style scoped>\n",
       "    .dataframe tbody tr th:only-of-type {\n",
       "        vertical-align: middle;\n",
       "    }\n",
       "\n",
       "    .dataframe tbody tr th {\n",
       "        vertical-align: top;\n",
       "    }\n",
       "\n",
       "    .dataframe thead th {\n",
       "        text-align: right;\n",
       "    }\n",
       "</style>\n",
       "<table border=\"1\" class=\"dataframe\">\n",
       "  <thead>\n",
       "    <tr style=\"text-align: right;\">\n",
       "      <th></th>\n",
       "      <th>Title</th>\n",
       "      <th>Artist Display Name</th>\n",
       "      <th>Object Date</th>\n",
       "      <th>Classification</th>\n",
       "      <th>Link Resource</th>\n",
       "      <th>Avg. Anger</th>\n",
       "      <th>Avg. Contempt</th>\n",
       "      <th>Avg. Disgust</th>\n",
       "      <th>Avg. Fear</th>\n",
       "      <th>Avg. Happiness</th>\n",
       "      <th>Avg. Neutral</th>\n",
       "      <th>Avg. Sadness</th>\n",
       "      <th>Avg. Surprise</th>\n",
       "    </tr>\n",
       "    <tr>\n",
       "      <th>Object ID</th>\n",
       "      <th></th>\n",
       "      <th></th>\n",
       "      <th></th>\n",
       "      <th></th>\n",
       "      <th></th>\n",
       "      <th></th>\n",
       "      <th></th>\n",
       "      <th></th>\n",
       "      <th></th>\n",
       "      <th></th>\n",
       "      <th></th>\n",
       "      <th></th>\n",
       "      <th></th>\n",
       "    </tr>\n",
       "  </thead>\n",
       "  <tbody>\n",
       "    <tr>\n",
       "      <th>10056</th>\n",
       "      <td>Hunter (from McGuire Scrapbook)</td>\n",
       "      <td>William Apthorp Adams</td>\n",
       "      <td>1797–1878</td>\n",
       "      <td>Drawings</td>\n",
       "      <td>http://www.metmuseum.org/art/collection/search...</td>\n",
       "      <td>0.000</td>\n",
       "      <td>0.001</td>\n",
       "      <td>0.0</td>\n",
       "      <td>0.0</td>\n",
       "      <td>0.206</td>\n",
       "      <td>0.792</td>\n",
       "      <td>0.001</td>\n",
       "      <td>0.0</td>\n",
       "    </tr>\n",
       "    <tr>\n",
       "      <th>10057</th>\n",
       "      <td>The Tahitian Chief Otore (from McGuire Scrapbook)</td>\n",
       "      <td>Alfred Thomas Agate</td>\n",
       "      <td>ca. 1839</td>\n",
       "      <td>Drawings</td>\n",
       "      <td>http://www.metmuseum.org/art/collection/search...</td>\n",
       "      <td>0.001</td>\n",
       "      <td>0.001</td>\n",
       "      <td>0.0</td>\n",
       "      <td>0.0</td>\n",
       "      <td>0.000</td>\n",
       "      <td>0.987</td>\n",
       "      <td>0.011</td>\n",
       "      <td>0.0</td>\n",
       "    </tr>\n",
       "    <tr>\n",
       "      <th>10070</th>\n",
       "      <td>The Spanish Girl in Reverie</td>\n",
       "      <td>Washington Allston</td>\n",
       "      <td>1831</td>\n",
       "      <td>Paintings</td>\n",
       "      <td>http://www.metmuseum.org/art/collection/search...</td>\n",
       "      <td>0.000</td>\n",
       "      <td>0.000</td>\n",
       "      <td>0.0</td>\n",
       "      <td>0.0</td>\n",
       "      <td>0.001</td>\n",
       "      <td>0.998</td>\n",
       "      <td>0.000</td>\n",
       "      <td>0.0</td>\n",
       "    </tr>\n",
       "    <tr>\n",
       "      <th>10074</th>\n",
       "      <td>Maurice Levy</td>\n",
       "      <td>Ezra Ames</td>\n",
       "      <td>ca. 1820</td>\n",
       "      <td>Paintings</td>\n",
       "      <td>http://www.metmuseum.org/art/collection/search...</td>\n",
       "      <td>0.000</td>\n",
       "      <td>0.001</td>\n",
       "      <td>0.0</td>\n",
       "      <td>0.0</td>\n",
       "      <td>0.001</td>\n",
       "      <td>0.995</td>\n",
       "      <td>0.003</td>\n",
       "      <td>0.0</td>\n",
       "    </tr>\n",
       "    <tr>\n",
       "      <th>10075</th>\n",
       "      <td>Philip Van Cortlandt</td>\n",
       "      <td>Ezra Ames</td>\n",
       "      <td>ca. 1810</td>\n",
       "      <td>Paintings</td>\n",
       "      <td>http://www.metmuseum.org/art/collection/search...</td>\n",
       "      <td>0.000</td>\n",
       "      <td>0.001</td>\n",
       "      <td>0.0</td>\n",
       "      <td>0.0</td>\n",
       "      <td>0.012</td>\n",
       "      <td>0.987</td>\n",
       "      <td>0.000</td>\n",
       "      <td>0.0</td>\n",
       "    </tr>\n",
       "  </tbody>\n",
       "</table>\n",
       "</div>"
      ],
      "text/plain": [
       "                                                       Title  \\\n",
       "Object ID                                                      \n",
       "10056                        Hunter (from McGuire Scrapbook)   \n",
       "10057      The Tahitian Chief Otore (from McGuire Scrapbook)   \n",
       "10070                            The Spanish Girl in Reverie   \n",
       "10074                                           Maurice Levy   \n",
       "10075                                   Philip Van Cortlandt   \n",
       "\n",
       "             Artist Display Name Object Date Classification  \\\n",
       "Object ID                                                     \n",
       "10056      William Apthorp Adams   1797–1878       Drawings   \n",
       "10057        Alfred Thomas Agate    ca. 1839       Drawings   \n",
       "10070         Washington Allston        1831      Paintings   \n",
       "10074                  Ezra Ames    ca. 1820      Paintings   \n",
       "10075                  Ezra Ames    ca. 1810      Paintings   \n",
       "\n",
       "                                               Link Resource  Avg. Anger  \\\n",
       "Object ID                                                                  \n",
       "10056      http://www.metmuseum.org/art/collection/search...       0.000   \n",
       "10057      http://www.metmuseum.org/art/collection/search...       0.001   \n",
       "10070      http://www.metmuseum.org/art/collection/search...       0.000   \n",
       "10074      http://www.metmuseum.org/art/collection/search...       0.000   \n",
       "10075      http://www.metmuseum.org/art/collection/search...       0.000   \n",
       "\n",
       "           Avg. Contempt  Avg. Disgust  Avg. Fear  Avg. Happiness  \\\n",
       "Object ID                                                           \n",
       "10056              0.001           0.0        0.0           0.206   \n",
       "10057              0.001           0.0        0.0           0.000   \n",
       "10070              0.000           0.0        0.0           0.001   \n",
       "10074              0.001           0.0        0.0           0.001   \n",
       "10075              0.001           0.0        0.0           0.012   \n",
       "\n",
       "           Avg. Neutral  Avg. Sadness  Avg. Surprise  \n",
       "Object ID                                             \n",
       "10056             0.792         0.001            0.0  \n",
       "10057             0.987         0.011            0.0  \n",
       "10070             0.998         0.000            0.0  \n",
       "10074             0.995         0.003            0.0  \n",
       "10075             0.987         0.000            0.0  "
      ]
     },
     "execution_count": 22,
     "metadata": {},
     "output_type": "execute_result"
    }
   ],
   "source": [
    "emotions.head()"
   ]
  },
  {
   "cell_type": "code",
   "execution_count": 23,
   "metadata": {},
   "outputs": [],
   "source": [
    "emotions['yearapprox']=emotions['Object Date']"
   ]
  },
  {
   "cell_type": "code",
   "execution_count": 24,
   "metadata": {},
   "outputs": [],
   "source": [
    "# I used your method :) \n",
    "pattern = r'([0-9]{4})'\n",
    "emotions['yearapprox']=emotions['Object Date'].str.extract(pattern)"
   ]
  },
  {
   "cell_type": "code",
   "execution_count": 25,
   "metadata": {},
   "outputs": [],
   "source": [
    "# DROP NULLS\n",
    "emotions=emotions[emotions['yearapprox'].notnull()]"
   ]
  },
  {
   "cell_type": "code",
   "execution_count": 26,
   "metadata": {},
   "outputs": [
    {
     "data": {
      "text/plain": [
       "27092"
      ]
     },
     "execution_count": 26,
     "metadata": {},
     "output_type": "execute_result"
    }
   ],
   "source": [
    "len(emotions)"
   ]
  },
  {
   "cell_type": "code",
   "execution_count": 27,
   "metadata": {},
   "outputs": [],
   "source": [
    "# have one column of years as ints\n",
    "emotions['intyears']=[int(x) for x in emotions['yearapprox']]"
   ]
  },
  {
   "cell_type": "code",
   "execution_count": 28,
   "metadata": {},
   "outputs": [],
   "source": [
    "#one col of years as datetime obj\n",
    "emotions['yearapprox']=[datetime.strptime(x, '%Y') for x in emotions['yearapprox']]"
   ]
  },
  {
   "cell_type": "markdown",
   "metadata": {},
   "source": [
    "#### save dataframe"
   ]
  },
  {
   "cell_type": "code",
   "execution_count": 29,
   "metadata": {},
   "outputs": [],
   "source": [
    "import pickle\n",
    "# DUMP OBJECT INTO PICKLE\n",
    "with open('emotions.pkl', 'wb') as picklefile:\n",
    "    pickle.dump(emotions, picklefile)"
   ]
  },
  {
   "cell_type": "code",
   "execution_count": 30,
   "metadata": {},
   "outputs": [],
   "source": [
    "mybins=[1100,1200,1300,1400,1500,1600, 1700,1800,1900,2000,2050]"
   ]
  },
  {
   "cell_type": "code",
   "execution_count": 31,
   "metadata": {},
   "outputs": [],
   "source": [
    "# eh...\n",
    "#r = pd.period_range('1600-01-01', '2019-01-01', freq='Y')\n",
    "#r"
   ]
  },
  {
   "cell_type": "markdown",
   "metadata": {},
   "source": [
    "#### Years start at 1100!! :O!!!"
   ]
  },
  {
   "cell_type": "code",
   "execution_count": 33,
   "metadata": {},
   "outputs": [
    {
     "data": {
      "text/plain": [
       "datetime.datetime(1100, 1, 1, 0, 0)"
      ]
     },
     "execution_count": 33,
     "metadata": {},
     "output_type": "execute_result"
    }
   ],
   "source": [
    "sorted(emotions['yearapprox'])[0]"
   ]
  },
  {
   "cell_type": "code",
   "execution_count": 34,
   "metadata": {},
   "outputs": [],
   "source": [
    "groups=emotions.groupby(pd.cut(emotions.intyears, mybins))"
   ]
  },
  {
   "cell_type": "code",
   "execution_count": 35,
   "metadata": {},
   "outputs": [
    {
     "data": {
      "text/plain": [
       "intyears\n",
       "(1100, 1200]        4\n",
       "(1200, 1300]        3\n",
       "(1300, 1400]       55\n",
       "(1400, 1500]      331\n",
       "(1500, 1600]     1115\n",
       "(1600, 1700]     1382\n",
       "(1700, 1800]     1745\n",
       "(1800, 1900]    10534\n",
       "(1900, 2000]    11868\n",
       "(2000, 2050]       54\n",
       "Name: yearapprox, dtype: int64"
      ]
     },
     "execution_count": 35,
     "metadata": {},
     "output_type": "execute_result"
    }
   ],
   "source": [
    "groups.yearapprox.count()"
   ]
  },
  {
   "cell_type": "code",
   "execution_count": 36,
   "metadata": {},
   "outputs": [
    {
     "data": {
      "text/plain": [
       "<matplotlib.axes._subplots.AxesSubplot at 0x116ac1908>"
      ]
     },
     "execution_count": 36,
     "metadata": {},
     "output_type": "execute_result"
    }
   ],
   "source": [
    "pd.DataFrame(groups.yearapprox.count()).plot(kind='bar', title='number of works per bin', legend=False)"
   ]
  },
  {
   "cell_type": "code",
   "execution_count": 37,
   "metadata": {},
   "outputs": [
    {
     "data": {
      "text/plain": [
       "Index(['Title', 'Artist Display Name', 'Object Date', 'Classification',\n",
       "       'Link Resource', 'Avg. Anger', 'Avg. Contempt', 'Avg. Disgust',\n",
       "       'Avg. Fear', 'Avg. Happiness', 'Avg. Neutral', 'Avg. Sadness',\n",
       "       'Avg. Surprise', 'yearapprox', 'intyears'],\n",
       "      dtype='object')"
      ]
     },
     "execution_count": 37,
     "metadata": {},
     "output_type": "execute_result"
    }
   ],
   "source": [
    "emotions.columns #printing so I can copy & paste hehe"
   ]
  },
  {
   "cell_type": "markdown",
   "metadata": {},
   "source": [
    "### Here we have the avg of the avg for each BIN (note that some bins are centuries and some are only 50 years!)"
   ]
  },
  {
   "cell_type": "code",
   "execution_count": 38,
   "metadata": {},
   "outputs": [
    {
     "data": {
      "text/html": [
       "<div>\n",
       "<style scoped>\n",
       "    .dataframe tbody tr th:only-of-type {\n",
       "        vertical-align: middle;\n",
       "    }\n",
       "\n",
       "    .dataframe tbody tr th {\n",
       "        vertical-align: top;\n",
       "    }\n",
       "\n",
       "    .dataframe thead th {\n",
       "        text-align: right;\n",
       "    }\n",
       "</style>\n",
       "<table border=\"1\" class=\"dataframe\">\n",
       "  <thead>\n",
       "    <tr style=\"text-align: right;\">\n",
       "      <th></th>\n",
       "      <th>Avg. Anger</th>\n",
       "      <th>Avg. Contempt</th>\n",
       "      <th>Avg. Disgust</th>\n",
       "      <th>Avg. Fear</th>\n",
       "      <th>Avg. Happiness</th>\n",
       "      <th>Avg. Neutral</th>\n",
       "      <th>Avg. Sadness</th>\n",
       "      <th>Avg. Surprise</th>\n",
       "    </tr>\n",
       "    <tr>\n",
       "      <th>intyears</th>\n",
       "      <th></th>\n",
       "      <th></th>\n",
       "      <th></th>\n",
       "      <th></th>\n",
       "      <th></th>\n",
       "      <th></th>\n",
       "      <th></th>\n",
       "      <th></th>\n",
       "    </tr>\n",
       "  </thead>\n",
       "  <tbody>\n",
       "    <tr>\n",
       "      <th>(1100, 1200]</th>\n",
       "      <td>0.284250</td>\n",
       "      <td>0.000750</td>\n",
       "      <td>0.001500</td>\n",
       "      <td>0.038000</td>\n",
       "      <td>0.023750</td>\n",
       "      <td>0.553000</td>\n",
       "      <td>0.005500</td>\n",
       "      <td>0.093500</td>\n",
       "    </tr>\n",
       "    <tr>\n",
       "      <th>(1200, 1300]</th>\n",
       "      <td>0.000333</td>\n",
       "      <td>0.026000</td>\n",
       "      <td>0.000000</td>\n",
       "      <td>0.000333</td>\n",
       "      <td>0.002667</td>\n",
       "      <td>0.958333</td>\n",
       "      <td>0.001667</td>\n",
       "      <td>0.011333</td>\n",
       "    </tr>\n",
       "    <tr>\n",
       "      <th>(1300, 1400]</th>\n",
       "      <td>0.008164</td>\n",
       "      <td>0.008127</td>\n",
       "      <td>0.002800</td>\n",
       "      <td>0.000600</td>\n",
       "      <td>0.013691</td>\n",
       "      <td>0.894564</td>\n",
       "      <td>0.060327</td>\n",
       "      <td>0.011891</td>\n",
       "    </tr>\n",
       "    <tr>\n",
       "      <th>(1400, 1500]</th>\n",
       "      <td>0.006417</td>\n",
       "      <td>0.005813</td>\n",
       "      <td>0.001369</td>\n",
       "      <td>0.001940</td>\n",
       "      <td>0.031160</td>\n",
       "      <td>0.893003</td>\n",
       "      <td>0.047296</td>\n",
       "      <td>0.012976</td>\n",
       "    </tr>\n",
       "    <tr>\n",
       "      <th>(1500, 1600]</th>\n",
       "      <td>0.008587</td>\n",
       "      <td>0.006186</td>\n",
       "      <td>0.002037</td>\n",
       "      <td>0.004984</td>\n",
       "      <td>0.042902</td>\n",
       "      <td>0.867294</td>\n",
       "      <td>0.045902</td>\n",
       "      <td>0.022114</td>\n",
       "    </tr>\n",
       "    <tr>\n",
       "      <th>(1600, 1700]</th>\n",
       "      <td>0.005502</td>\n",
       "      <td>0.006454</td>\n",
       "      <td>0.001081</td>\n",
       "      <td>0.002258</td>\n",
       "      <td>0.099370</td>\n",
       "      <td>0.850427</td>\n",
       "      <td>0.022542</td>\n",
       "      <td>0.012243</td>\n",
       "    </tr>\n",
       "    <tr>\n",
       "      <th>(1700, 1800]</th>\n",
       "      <td>0.013007</td>\n",
       "      <td>0.006614</td>\n",
       "      <td>0.002088</td>\n",
       "      <td>0.003926</td>\n",
       "      <td>0.109647</td>\n",
       "      <td>0.811820</td>\n",
       "      <td>0.030964</td>\n",
       "      <td>0.021860</td>\n",
       "    </tr>\n",
       "    <tr>\n",
       "      <th>(1800, 1900]</th>\n",
       "      <td>0.004352</td>\n",
       "      <td>0.004089</td>\n",
       "      <td>0.000377</td>\n",
       "      <td>0.001387</td>\n",
       "      <td>0.107886</td>\n",
       "      <td>0.862090</td>\n",
       "      <td>0.012017</td>\n",
       "      <td>0.007597</td>\n",
       "    </tr>\n",
       "    <tr>\n",
       "      <th>(1900, 2000]</th>\n",
       "      <td>0.007322</td>\n",
       "      <td>0.007235</td>\n",
       "      <td>0.001760</td>\n",
       "      <td>0.001246</td>\n",
       "      <td>0.248970</td>\n",
       "      <td>0.711742</td>\n",
       "      <td>0.013704</td>\n",
       "      <td>0.007859</td>\n",
       "    </tr>\n",
       "    <tr>\n",
       "      <th>(2000, 2050]</th>\n",
       "      <td>0.013463</td>\n",
       "      <td>0.004981</td>\n",
       "      <td>0.000815</td>\n",
       "      <td>0.002148</td>\n",
       "      <td>0.087222</td>\n",
       "      <td>0.832074</td>\n",
       "      <td>0.040167</td>\n",
       "      <td>0.019074</td>\n",
       "    </tr>\n",
       "  </tbody>\n",
       "</table>\n",
       "</div>"
      ],
      "text/plain": [
       "              Avg. Anger  Avg. Contempt  Avg. Disgust  Avg. Fear  \\\n",
       "intyears                                                           \n",
       "(1100, 1200]    0.284250       0.000750      0.001500   0.038000   \n",
       "(1200, 1300]    0.000333       0.026000      0.000000   0.000333   \n",
       "(1300, 1400]    0.008164       0.008127      0.002800   0.000600   \n",
       "(1400, 1500]    0.006417       0.005813      0.001369   0.001940   \n",
       "(1500, 1600]    0.008587       0.006186      0.002037   0.004984   \n",
       "(1600, 1700]    0.005502       0.006454      0.001081   0.002258   \n",
       "(1700, 1800]    0.013007       0.006614      0.002088   0.003926   \n",
       "(1800, 1900]    0.004352       0.004089      0.000377   0.001387   \n",
       "(1900, 2000]    0.007322       0.007235      0.001760   0.001246   \n",
       "(2000, 2050]    0.013463       0.004981      0.000815   0.002148   \n",
       "\n",
       "              Avg. Happiness  Avg. Neutral  Avg. Sadness  Avg. Surprise  \n",
       "intyears                                                                 \n",
       "(1100, 1200]        0.023750      0.553000      0.005500       0.093500  \n",
       "(1200, 1300]        0.002667      0.958333      0.001667       0.011333  \n",
       "(1300, 1400]        0.013691      0.894564      0.060327       0.011891  \n",
       "(1400, 1500]        0.031160      0.893003      0.047296       0.012976  \n",
       "(1500, 1600]        0.042902      0.867294      0.045902       0.022114  \n",
       "(1600, 1700]        0.099370      0.850427      0.022542       0.012243  \n",
       "(1700, 1800]        0.109647      0.811820      0.030964       0.021860  \n",
       "(1800, 1900]        0.107886      0.862090      0.012017       0.007597  \n",
       "(1900, 2000]        0.248970      0.711742      0.013704       0.007859  \n",
       "(2000, 2050]        0.087222      0.832074      0.040167       0.019074  "
      ]
     },
     "execution_count": 38,
     "metadata": {},
     "output_type": "execute_result"
    }
   ],
   "source": [
    "groups['Avg. Anger',\n",
    "       'Avg. Contempt', 'Avg. Disgust', 'Avg. Fear', 'Avg. Happiness',\n",
    "       'Avg. Neutral', 'Avg. Sadness', 'Avg. Surprise'].mean()"
   ]
  },
  {
   "cell_type": "code",
   "execution_count": 39,
   "metadata": {},
   "outputs": [
    {
     "data": {
      "text/html": [
       "<div>\n",
       "<style scoped>\n",
       "    .dataframe tbody tr th:only-of-type {\n",
       "        vertical-align: middle;\n",
       "    }\n",
       "\n",
       "    .dataframe tbody tr th {\n",
       "        vertical-align: top;\n",
       "    }\n",
       "\n",
       "    .dataframe thead th {\n",
       "        text-align: right;\n",
       "    }\n",
       "</style>\n",
       "<table border=\"1\" class=\"dataframe\">\n",
       "  <thead>\n",
       "    <tr style=\"text-align: right;\">\n",
       "      <th></th>\n",
       "      <th>Avg. Anger</th>\n",
       "      <th>Avg. Contempt</th>\n",
       "      <th>Avg. Disgust</th>\n",
       "      <th>Avg. Fear</th>\n",
       "      <th>Avg. Happiness</th>\n",
       "      <th>Avg. Neutral</th>\n",
       "      <th>Avg. Sadness</th>\n",
       "      <th>Avg. Surprise</th>\n",
       "    </tr>\n",
       "    <tr>\n",
       "      <th>intyears</th>\n",
       "      <th></th>\n",
       "      <th></th>\n",
       "      <th></th>\n",
       "      <th></th>\n",
       "      <th></th>\n",
       "      <th></th>\n",
       "      <th></th>\n",
       "      <th></th>\n",
       "    </tr>\n",
       "  </thead>\n",
       "  <tbody>\n",
       "    <tr>\n",
       "      <th>(1100, 1200]</th>\n",
       "      <td>0.742</td>\n",
       "      <td>0.001</td>\n",
       "      <td>0.004</td>\n",
       "      <td>0.087</td>\n",
       "      <td>0.064</td>\n",
       "      <td>0.992</td>\n",
       "      <td>0.008</td>\n",
       "      <td>0.308</td>\n",
       "    </tr>\n",
       "    <tr>\n",
       "      <th>(1200, 1300]</th>\n",
       "      <td>0.001</td>\n",
       "      <td>0.077</td>\n",
       "      <td>0.000</td>\n",
       "      <td>0.001</td>\n",
       "      <td>0.006</td>\n",
       "      <td>0.981</td>\n",
       "      <td>0.003</td>\n",
       "      <td>0.025</td>\n",
       "    </tr>\n",
       "    <tr>\n",
       "      <th>(1300, 1400]</th>\n",
       "      <td>0.196</td>\n",
       "      <td>0.130</td>\n",
       "      <td>0.054</td>\n",
       "      <td>0.019</td>\n",
       "      <td>0.190</td>\n",
       "      <td>0.996</td>\n",
       "      <td>0.479</td>\n",
       "      <td>0.246</td>\n",
       "    </tr>\n",
       "    <tr>\n",
       "      <th>(1400, 1500]</th>\n",
       "      <td>0.211</td>\n",
       "      <td>0.189</td>\n",
       "      <td>0.178</td>\n",
       "      <td>0.166</td>\n",
       "      <td>1.000</td>\n",
       "      <td>1.000</td>\n",
       "      <td>0.765</td>\n",
       "      <td>0.563</td>\n",
       "    </tr>\n",
       "    <tr>\n",
       "      <th>(1500, 1600]</th>\n",
       "      <td>0.976</td>\n",
       "      <td>0.335</td>\n",
       "      <td>0.214</td>\n",
       "      <td>0.406</td>\n",
       "      <td>0.985</td>\n",
       "      <td>1.000</td>\n",
       "      <td>0.935</td>\n",
       "      <td>0.959</td>\n",
       "    </tr>\n",
       "    <tr>\n",
       "      <th>(1600, 1700]</th>\n",
       "      <td>0.771</td>\n",
       "      <td>0.673</td>\n",
       "      <td>0.249</td>\n",
       "      <td>0.702</td>\n",
       "      <td>1.000</td>\n",
       "      <td>1.000</td>\n",
       "      <td>0.708</td>\n",
       "      <td>0.572</td>\n",
       "    </tr>\n",
       "    <tr>\n",
       "      <th>(1700, 1800]</th>\n",
       "      <td>0.943</td>\n",
       "      <td>0.652</td>\n",
       "      <td>0.240</td>\n",
       "      <td>0.435</td>\n",
       "      <td>1.000</td>\n",
       "      <td>1.000</td>\n",
       "      <td>0.949</td>\n",
       "      <td>0.984</td>\n",
       "    </tr>\n",
       "    <tr>\n",
       "      <th>(1800, 1900]</th>\n",
       "      <td>0.946</td>\n",
       "      <td>0.772</td>\n",
       "      <td>0.244</td>\n",
       "      <td>0.980</td>\n",
       "      <td>1.000</td>\n",
       "      <td>1.000</td>\n",
       "      <td>0.948</td>\n",
       "      <td>0.992</td>\n",
       "    </tr>\n",
       "    <tr>\n",
       "      <th>(1900, 2000]</th>\n",
       "      <td>0.987</td>\n",
       "      <td>0.870</td>\n",
       "      <td>0.557</td>\n",
       "      <td>0.914</td>\n",
       "      <td>1.000</td>\n",
       "      <td>1.000</td>\n",
       "      <td>0.998</td>\n",
       "      <td>0.997</td>\n",
       "    </tr>\n",
       "    <tr>\n",
       "      <th>(2000, 2050]</th>\n",
       "      <td>0.460</td>\n",
       "      <td>0.106</td>\n",
       "      <td>0.016</td>\n",
       "      <td>0.108</td>\n",
       "      <td>1.000</td>\n",
       "      <td>1.000</td>\n",
       "      <td>0.239</td>\n",
       "      <td>0.819</td>\n",
       "    </tr>\n",
       "  </tbody>\n",
       "</table>\n",
       "</div>"
      ],
      "text/plain": [
       "              Avg. Anger  Avg. Contempt  Avg. Disgust  Avg. Fear  \\\n",
       "intyears                                                           \n",
       "(1100, 1200]       0.742          0.001         0.004      0.087   \n",
       "(1200, 1300]       0.001          0.077         0.000      0.001   \n",
       "(1300, 1400]       0.196          0.130         0.054      0.019   \n",
       "(1400, 1500]       0.211          0.189         0.178      0.166   \n",
       "(1500, 1600]       0.976          0.335         0.214      0.406   \n",
       "(1600, 1700]       0.771          0.673         0.249      0.702   \n",
       "(1700, 1800]       0.943          0.652         0.240      0.435   \n",
       "(1800, 1900]       0.946          0.772         0.244      0.980   \n",
       "(1900, 2000]       0.987          0.870         0.557      0.914   \n",
       "(2000, 2050]       0.460          0.106         0.016      0.108   \n",
       "\n",
       "              Avg. Happiness  Avg. Neutral  Avg. Sadness  Avg. Surprise  \n",
       "intyears                                                                 \n",
       "(1100, 1200]           0.064         0.992         0.008          0.308  \n",
       "(1200, 1300]           0.006         0.981         0.003          0.025  \n",
       "(1300, 1400]           0.190         0.996         0.479          0.246  \n",
       "(1400, 1500]           1.000         1.000         0.765          0.563  \n",
       "(1500, 1600]           0.985         1.000         0.935          0.959  \n",
       "(1600, 1700]           1.000         1.000         0.708          0.572  \n",
       "(1700, 1800]           1.000         1.000         0.949          0.984  \n",
       "(1800, 1900]           1.000         1.000         0.948          0.992  \n",
       "(1900, 2000]           1.000         1.000         0.998          0.997  \n",
       "(2000, 2050]           1.000         1.000         0.239          0.819  "
      ]
     },
     "execution_count": 39,
     "metadata": {},
     "output_type": "execute_result"
    }
   ],
   "source": [
    "# for each bin, the MAX 'avg score' per emotion\n",
    "groups['Avg. Anger',\n",
    "       'Avg. Contempt', 'Avg. Disgust', 'Avg. Fear', 'Avg. Happiness',\n",
    "       'Avg. Neutral', 'Avg. Sadness', 'Avg. Surprise'].max()"
   ]
  },
  {
   "cell_type": "markdown",
   "metadata": {},
   "source": [
    "I wonder how technique, medium, culture, etc play a part in the emotions - avg surprise is super low till 1300, then steadily increases, and is quite high from 1700 onwards.  \n",
    "sort of similar trend with anger  \n",
    "or perhaps just product of number of artworks?"
   ]
  },
  {
   "cell_type": "code",
   "execution_count": 40,
   "metadata": {},
   "outputs": [],
   "source": [
    "max_emotes=pd.DataFrame(groups['Avg. Anger',\n",
    "       'Avg. Contempt', 'Avg. Disgust', 'Avg. Fear', 'Avg. Happiness',\n",
    "       'Avg. Neutral', 'Avg. Sadness', 'Avg. Surprise'].max())"
   ]
  },
  {
   "cell_type": "code",
   "execution_count": 41,
   "metadata": {},
   "outputs": [
    {
     "data": {
      "text/plain": [
       "<matplotlib.axes._subplots.AxesSubplot at 0x1170393c8>"
      ]
     },
     "execution_count": 41,
     "metadata": {},
     "output_type": "execute_result"
    },
    {
     "data": {
      "image/png": "[encoded data removed]",
      "text/plain": [
       "<Figure size 1440x1440 with 1 Axes>"
      ]
     },
     "metadata": {},
     "output_type": "display_data"
    }
   ],
   "source": [
    "max_emotes.plot(figsize=(20,20)) #x axis may be off"
   ]
  },
  {
   "cell_type": "markdown",
   "metadata": {},
   "source": [
    "more to come :)"
   ]
  },
  {
   "cell_type": "code",
   "execution_count": null,
   "metadata": {},
   "outputs": [],
   "source": []
  }
 ],
 "metadata": {
  "colab": {
   "include_colab_link": true,
   "name": "Untitled0.ipynb",
   "provenance": [],
   "version": "0.3.2"
  },
  "kernelspec": {
   "display_name": "Python 3",
   "language": "python",
   "name": "python3"
  },
  "language_info": {
   "codemirror_mode": {
    "name": "ipython",
    "version": 3
   },
   "file_extension": ".py",
   "mimetype": "text/x-python",
   "name": "python",
   "nbconvert_exporter": "python",
   "pygments_lexer": "ipython3",
   "version": "3.6.6"
  }
 },
 "nbformat": 4,
 "nbformat_minor": 2
}
